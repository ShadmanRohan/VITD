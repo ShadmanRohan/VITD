{
 "cells": [
  {
   "cell_type": "code",
   "execution_count": 1,
   "id": "3681c37f-fa39-4bf9-936e-22866967c82f",
   "metadata": {},
   "outputs": [],
   "source": [
    "import regex as re\n",
    "import torch\n",
    "import torch.nn as nn\n",
    "import pandas as pd\n",
    "from normalizer import normalize\n",
    "from transformers.modeling_outputs import TokenClassifierOutput, SequenceClassifierOutput\n",
    "from transformers import AutoModelForSequenceClassification, AutoModel, AutoConfig"
   ]
  },
  {
   "cell_type": "code",
   "execution_count": 2,
   "id": "fb12a66d-54b5-4799-8375-19c904354d19",
   "metadata": {},
   "outputs": [],
   "source": [
    "# Load Data\n",
    "train = pd.read_csv('data/train.csv')\n",
    "dev = pd.read_csv('data/dev.csv')\n",
    "test = pd.read_csv('data/test.csv')\n",
    "\n",
    "#preprocessing\n",
    "def process_hashtags(text):\n",
    "    # Remove initial hashtags\n",
    "    text = re.sub(r'^#(\\w+)', '', text).strip()\n",
    "\n",
    "    # Extract keywords from hashtags, replace underscores with space\n",
    "    def replace_hashtag(match):\n",
    "        return match.group(1).replace('_', ' ')\n",
    "    \n",
    "    text = re.sub(r'#(\\w+)', replace_hashtag, text)\n",
    "\n",
    "    return text\n",
    "\n",
    "\n",
    "#replace links with [URL]\n",
    "train['text'] = train['text'].apply(lambda x: re.sub(r'http\\S+', '[URL]', x))\n",
    "dev['text'] = dev['text'].apply(lambda x: re.sub(r'http\\S+', '[URL]', x))\n",
    "test['text'] = test['text'].apply(lambda x: re.sub(r'http\\S+', '[URL]', x))\n",
    "\n",
    "# remove hashtag\n",
    "train['text'] = train['text'].apply(process_hashtags)\n",
    "dev['text'] = dev['text'].apply(process_hashtags)\n",
    "test['text'] = test['text'].apply(process_hashtags)\n"
   ]
  },
  {
   "cell_type": "code",
   "execution_count": 3,
   "id": "94db9a80-3791-4d83-a2d1-3af97a7b50ba",
   "metadata": {},
   "outputs": [
    {
     "data": {
      "text/plain": [
       "0    1389\n",
       "1     922\n",
       "2     389\n",
       "Name: label, dtype: int64"
      ]
     },
     "execution_count": 3,
     "metadata": {},
     "output_type": "execute_result"
    }
   ],
   "source": [
    "# Map labels\n",
    "\n",
    "id2label = {\n",
    "    0 : 'Non-Violence',\n",
    "    1 : 'Passive Violence',\n",
    "    2 : 'Direct Violence'\n",
    "}\n",
    "\n",
    "label2id = {\n",
    "    'Non-Violence': 0,\n",
    "    'Passive Violence': 1,\n",
    "    'Direct Violence': 2\n",
    "}\n",
    "\n",
    "# train['label'] = train['label_name'].map(label2id)\n",
    "# validation['label'] = validation['label_name'].map(label2id)\n",
    "#test['label'] = test['label_name'].map(label2id)\n",
    "train.label.value_counts()"
   ]
  },
  {
   "cell_type": "code",
   "execution_count": 4,
   "id": "cafbd80c-7649-4865-9914-257808d642b3",
   "metadata": {},
   "outputs": [
    {
     "data": {
      "text/plain": [
       "<Axes: >"
      ]
     },
     "execution_count": 4,
     "metadata": {},
     "output_type": "execute_result"
    },
    {
     "data": {
      "image/png": "[encoded data removed]",
      "text/plain": [
       "<Figure size 640x480 with 1 Axes>"
      ]
     },
     "metadata": {},
     "output_type": "display_data"
    }
   ],
   "source": [
    "# train = train.drop(columns=['id', 'label_name'], axis=1)\n",
    "# validation = validation.drop(['id', 'label_name'], axis=1)\n",
    "\n",
    "#test = test.drop(['id'], axis=1)\n",
    "train.label.hist()\n",
    "dev.label.hist()"
   ]
  },
  {
   "cell_type": "code",
   "execution_count": null,
   "id": "40dfde80-29b0-4350-ab93-a20ab8020b98",
   "metadata": {},
   "outputs": [],
   "source": []
  },
  {
   "cell_type": "markdown",
   "id": "7c146db1-6de5-40a7-a306-7b69fbed3207",
   "metadata": {},
   "source": [
    "## Normalization"
   ]
  },
  {
   "cell_type": "code",
   "execution_count": 5,
   "id": "6175af20-b429-443f-bdff-7cf24f56e9bf",
   "metadata": {},
   "outputs": [],
   "source": [
    "from bnunicodenormalizer import Normalizer\n",
    "bnorm = Normalizer()\n",
    "\n",
    "def normalize_sentence(sentence):\n",
    "    words = sentence.split()\n",
    "    normalized_words = []\n",
    "\n",
    "    for word in words:\n",
    "        normalized_word = bnorm(word)['normalized']\n",
    "        if normalized_word is not None:\n",
    "            normalized_words.append(normalized_word)\n",
    "        else:\n",
    "            normalized_words.append(word)  # Use the original word if normalization fails\n",
    "    normalized_sentence = normalize(' '.join(normalized_words))\n",
    "    return normalized_sentence\n",
    "\n",
    "train['text'] = pd.DataFrame(train['text'].map(lambda x: normalize_sentence(x)))\n",
    "dev['text'] = pd.DataFrame(dev['text'].map(lambda x: normalize_sentence(x)))\n",
    "test['text'] = pd.DataFrame(test['text'].map(lambda x: normalize_sentence(x)))\n",
    "\n",
    "#save test\n",
    "test.to_csv('./data_gen/test.csv', index=False)"
   ]
  },
  {
   "cell_type": "markdown",
   "id": "d5bc32b9-ad03-4039-88d6-8386b89a226a",
   "metadata": {},
   "source": [
    "### Paraphrased Data (Lowest Class only)"
   ]
  },
  {
   "cell_type": "code",
   "execution_count": 6,
   "id": "6be9fd65-1508-4b5e-a75c-e05ed9b18b2b",
   "metadata": {},
   "outputs": [
    {
     "name": "stderr",
     "output_type": "stream",
     "text": [
      "You are using the legacy behaviour of the <class 'transformers.models.t5.tokenization_t5.T5Tokenizer'>. This means that tokens that come after special tokens will not be properly handled. We recommend you to read the related pull request available at https://github.com/huggingface/transformers/pull/24565\n",
      "/home/rohan/miniconda3/envs/textclassification/lib/python3.9/site-packages/transformers/generation/utils.py:1369: UserWarning: Using `max_length`'s default (20) to control the generation length. This behaviour is deprecated and will be removed from the config in v5 of Transformers -- we recommend using `max_new_tokens` to control the maximum length of the generation.\n",
      "  warnings.warn(\n",
      "/home/rohan/miniconda3/envs/textclassification/lib/python3.9/site-packages/transformers/generation/utils.py:1369: UserWarning: Using `max_length`'s default (20) to control the generation length. This behaviour is deprecated and will be removed from the config in v5 of Transformers -- we recommend using `max_new_tokens` to control the maximum length of the generation.\n",
      "  warnings.warn(\n",
      "/home/rohan/miniconda3/envs/textclassification/lib/python3.9/site-packages/transformers/generation/utils.py:1369: UserWarning: Using `max_length`'s default (20) to control the generation length. This behaviour is deprecated and will be removed from the config in v5 of Transformers -- we recommend using `max_new_tokens` to control the maximum length of the generation.\n",
      "  warnings.warn(\n"
     ]
    }
   ],
   "source": [
    "from transformers import AutoModelForSeq2SeqLM, AutoTokenizer\n",
    "\n",
    "# Load the models and tokenizers\n",
    "MODELS = {\n",
    "    \"csebuetnlp/banglat5_banglaparaphrase\": {\n",
    "        \"model\": AutoModelForSeq2SeqLM.from_pretrained(\"csebuetnlp/banglat5_banglaparaphrase\"),\n",
    "        \"tokenizer\": AutoTokenizer.from_pretrained(\"csebuetnlp/banglat5_banglaparaphrase\", use_fast=False)\n",
    "    },\n",
    "    \"fuadalhasib/semantically-aware-banglat5-for-paraphrase\": {\n",
    "        \"model\": AutoModelForSeq2SeqLM.from_pretrained(\"fuadalhasib/semantically-aware-banglat5-for-paraphrase\"),\n",
    "        \"tokenizer\": AutoTokenizer.from_pretrained(\"fuadalhasib/semantically-aware-banglat5-for-paraphrase\", use_fast=False)\n",
    "    }\n",
    "}\n",
    "\n",
    "# Check for GPU availability\n",
    "device = \"cuda\" if torch.cuda.is_available() else \"cpu\"\n",
    "for _, model_data in MODELS.items():\n",
    "    model_data[\"model\"] = model_data[\"model\"].to(device)\n",
    "\n",
    "BATCH_SIZE = 64  # You can adjust this based on your GPU's memory.\n",
    "\n",
    "def paraphrase_batch(texts, model, tokenizer):\n",
    "    input_ids = tokenizer(texts, padding=True, truncation=True, return_tensors=\"pt\").input_ids.to(device)\n",
    "    generated_tokens = model.generate(input_ids)\n",
    "    return tokenizer.batch_decode(generated_tokens)\n",
    "\n",
    "def paraphrase_class(data, label, model_name):\n",
    "    model = MODELS[model_name][\"model\"]\n",
    "    tokenizer = MODELS[model_name][\"tokenizer\"]\n",
    "    \n",
    "    class_texts = data[data['label'] == label]['text'].tolist()\n",
    "    augmented_texts = []\n",
    "    for i in range(0, len(class_texts), BATCH_SIZE):\n",
    "        batch_texts = class_texts[i:i+BATCH_SIZE]\n",
    "        augmented_texts.extend(paraphrase_batch(batch_texts, model, tokenizer))\n",
    "    return pd.DataFrame({'text': augmented_texts, 'label': [label for _ in augmented_texts]})\n",
    "\n",
    "# Choose which models to use for paraphrasing\n",
    "selected_models = [\"csebuetnlp/banglat5_banglaparaphrase\"]  # Modify this list to choose the models\n",
    "# \"csebuetnlp/banglat5_banglaparaphrase\" \"fuadalhasib/semantically-aware-banglat5-for-paraphrase\"\n",
    "\n",
    "# Choose which classes to paraphrase\n",
    "classes_to_paraphrase = [0, 1, 2]  # Modify this list to choose the classes\n",
    "augmented_dataframes = []\n",
    "\n",
    "for model_name in selected_models:\n",
    "    for label in classes_to_paraphrase:\n",
    "        augmented_dataframes.append(paraphrase_class(train, label, model_name))\n",
    "\n",
    "\n",
    "# Concatenate the original train data and the augmented data\n",
    "augmented_data = pd.concat(augmented_dataframes, axis=0).reset_index(drop=True)\n",
    "paraphrased_train = pd.concat([train, augmented_data], ignore_index=True)\n"
   ]
  },
  {
   "cell_type": "code",
   "execution_count": 7,
   "id": "93dd31dc-d865-4367-a773-355ef9498205",
   "metadata": {},
   "outputs": [
    {
     "data": {
      "text/plain": [
       "0    1389\n",
       "1     922\n",
       "2     389\n",
       "Name: label, dtype: int64"
      ]
     },
     "execution_count": 7,
     "metadata": {},
     "output_type": "execute_result"
    }
   ],
   "source": [
    "augmented_data.label.value_counts()"
   ]
  },
  {
   "cell_type": "code",
   "execution_count": 10,
   "id": "f138286b-86ba-4803-ba22-25b6a603f86d",
   "metadata": {},
   "outputs": [
    {
     "data": {
      "text/plain": [
       "0    2778\n",
       "1    1844\n",
       "2     778\n",
       "Name: label, dtype: int64"
      ]
     },
     "execution_count": 10,
     "metadata": {},
     "output_type": "execute_result"
    }
   ],
   "source": [
    "paraphrased_train.label.value_counts()"
   ]
  },
  {
   "cell_type": "code",
   "execution_count": 11,
   "id": "2af927a6-14b7-460b-bc95-e6e9826ca93e",
   "metadata": {},
   "outputs": [],
   "source": [
    "paraphrased_train.to_csv('./data_gen/train_paraphrased.csv', index=False)"
   ]
  },
  {
   "cell_type": "markdown",
   "id": "39ce7420-1c48-4a0c-8ee3-0340a8f60eb3",
   "metadata": {},
   "source": [
    "### Back Translation based Data Augmentation"
   ]
  },
  {
   "cell_type": "code",
   "execution_count": 9,
   "id": "78603957-a687-44e1-8d11-d4e90978a447",
   "metadata": {},
   "outputs": [],
   "source": [
    "import pandas as pd\n",
    "import torch\n",
    "from transformers import T5Tokenizer, T5ForConditionalGeneration\n",
    "\n",
    "# Check if CUDA (GPU support) is available and set the device accordingly\n",
    "device = torch.device(\"cuda\" if torch.cuda.is_available() else \"cpu\")\n",
    "\n",
    "# Load the models and tokenizers and move them to GPU\n",
    "tokenizer_bn_en = T5Tokenizer.from_pretrained(\"csebuetnlp/banglat5_nmt_bn_en\")\n",
    "model_bn_en = T5ForConditionalGeneration.from_pretrained(\"csebuetnlp/banglat5_nmt_bn_en\").to(device)\n",
    "\n",
    "tokenizer_en_bn = T5Tokenizer.from_pretrained(\"csebuetnlp/banglat5_nmt_en_bn\")\n",
    "model_en_bn = T5ForConditionalGeneration.from_pretrained(\"csebuetnlp/banglat5_nmt_en_bn\").to(device)\n",
    "\n",
    "def back_translate_batch(sentences: list) -> list:\n",
    "    inputs = tokenizer_bn_en(sentences, padding=True, truncation=True, return_tensors=\"pt\", max_length=512)\n",
    "    inputs = {key: val.to(device) for key, val in inputs.items()}\n",
    "    outputs = model_bn_en.generate(**inputs, max_length=256, num_return_sequences=1, temperature=0.6)\n",
    "    translated_sentences = [tokenizer_bn_en.decode(output, skip_special_tokens=True).replace('<pad>', '').strip() for output in outputs]\n",
    "\n",
    "    inputs = tokenizer_en_bn(translated_sentences, padding=True, truncation=True, return_tensors=\"pt\", max_length=512)\n",
    "    inputs = {key: val.to(device) for key, val in inputs.items()}\n",
    "    outputs = model_en_bn.generate(**inputs, max_length=256, num_return_sequences=1, temperature=0.6)\n",
    "    back_translated_sentences = [tokenizer_en_bn.decode(output, skip_special_tokens=True).replace('<pad>', '').strip() for output in outputs]\n",
    "\n",
    "    return back_translated_sentences\n",
    "\n",
    "def back_translate_class(data, label, BATCH_SIZE=32):\n",
    "    filtered_train = data[data['label'] == label].reset_index(drop=True)\n",
    "    backtranslated_texts = []\n",
    "    original_labels = []  # Store the original labels of the sentences being back-translated\n",
    "    \n",
    "    for i in range(0, len(filtered_train), BATCH_SIZE):\n",
    "        batch = filtered_train['text'].iloc[i:i+BATCH_SIZE].tolist()\n",
    "        backtranslated_texts.extend(back_translate_batch(batch))\n",
    "        # Append the labels from the original datapoints it was backtranslated from\n",
    "        original_labels.extend(filtered_train['label'].iloc[i:i+BATCH_SIZE].tolist())\n",
    "    \n",
    "    # Create a dataframe with backtranslated texts and their corresponding original labels\n",
    "    return pd.DataFrame({\n",
    "        'text': backtranslated_texts,\n",
    "        'label': original_labels\n",
    "    })\n",
    "\n",
    "# Choose which classes to back-translate\n",
    "classes_to_backtranslate = [2]\n",
    "synthetic_dataframes = []\n",
    "\n",
    "for label in classes_to_backtranslate:\n",
    "    synthetic_dataframes.append(back_translate_class(train, label))\n",
    "\n",
    "# Concatenate the original train data and the synthetic data\n",
    "synthetic_data = pd.concat(synthetic_dataframes, axis=0).reset_index(drop=True)\n",
    "backtranslated_train = pd.concat([train, synthetic_data], axis=0).reset_index(drop=True)"
   ]
  },
  {
   "cell_type": "code",
   "execution_count": 10,
   "id": "6e7ce526-1bcc-407c-ac0c-157401fe13dc",
   "metadata": {},
   "outputs": [
    {
     "data": {
      "text/html": [
       "<div>\n",
       "<style scoped>\n",
       "    .dataframe tbody tr th:only-of-type {\n",
       "        vertical-align: middle;\n",
       "    }\n",
       "\n",
       "    .dataframe tbody tr th {\n",
       "        vertical-align: top;\n",
       "    }\n",
       "\n",
       "    .dataframe thead th {\n",
       "        text-align: right;\n",
       "    }\n",
       "</style>\n",
       "<table border=\"1\" class=\"dataframe\">\n",
       "  <thead>\n",
       "    <tr style=\"text-align: right;\">\n",
       "      <th></th>\n",
       "      <th>text</th>\n",
       "      <th>label</th>\n",
       "    </tr>\n",
       "  </thead>\n",
       "  <tbody>\n",
       "    <tr>\n",
       "      <th>5380</th>\n",
       "      <td>বাজার বন্ধ, তারা খারাপ আচরণ করে,</td>\n",
       "      <td>2</td>\n",
       "    </tr>\n",
       "    <tr>\n",
       "      <th>5381</th>\n",
       "      <td>পুলিশের সেই স্থানে যাওয়া উচিত নয় যেখানে এই ধ...</td>\n",
       "      <td>2</td>\n",
       "    </tr>\n",
       "    <tr>\n",
       "      <th>5382</th>\n",
       "      <td>আওয়ামী লীগকে ভেঙে দিতে হবে শেখ হাসিনার চোর সর...</td>\n",
       "      <td>2</td>\n",
       "    </tr>\n",
       "    <tr>\n",
       "      <th>5383</th>\n",
       "      <td>আমাদের দেশের বেশিরভাগ মেয়ে আধুনিক হিজাব পরে ন...</td>\n",
       "      <td>2</td>\n",
       "    </tr>\n",
       "    <tr>\n",
       "      <th>5384</th>\n",
       "      <td>ভারত বয়কট.</td>\n",
       "      <td>2</td>\n",
       "    </tr>\n",
       "    <tr>\n",
       "      <th>5385</th>\n",
       "      <td>সরকারি স্কুল-কলেজে পড়ার জন্য স্কুলের নির্দিষ্...</td>\n",
       "      <td>2</td>\n",
       "    </tr>\n",
       "    <tr>\n",
       "      <th>5386</th>\n",
       "      <td>সব মুসলিম দেশ থেকে হিন্দুদের বয়কট করুন, হিন্দ...</td>\n",
       "      <td>2</td>\n",
       "    </tr>\n",
       "    <tr>\n",
       "      <th>5387</th>\n",
       "      <td>এখন আমরা চার দেব না, এখন আমরা মসজিদ আক্রমণ করত...</td>\n",
       "      <td>2</td>\n",
       "    </tr>\n",
       "    <tr>\n",
       "      <th>5388</th>\n",
       "      <td>যুদ্ধের জন্য প্রস্তুত হতে সকল মুসলমানদের আহ্বা...</td>\n",
       "      <td>2</td>\n",
       "    </tr>\n",
       "    <tr>\n",
       "      <th>5389</th>\n",
       "      <td>যারা ইসলামকে আঘাত করছে, আল্লাহ কাফেরদের উপর আপ...</td>\n",
       "      <td>2</td>\n",
       "    </tr>\n",
       "    <tr>\n",
       "      <th>5390</th>\n",
       "      <td>তাই কলেজ বন্ধ হলে বাজারও বন্ধ হয়ে যাবে।</td>\n",
       "      <td>2</td>\n",
       "    </tr>\n",
       "    <tr>\n",
       "      <th>5391</th>\n",
       "      <td>নিউ মার্কেট এলাকার সব দোকান বয়কট করে এবং তিন ...</td>\n",
       "      <td>2</td>\n",
       "    </tr>\n",
       "    <tr>\n",
       "      <th>5392</th>\n",
       "      <td>যারা তার সাথে আছে তাদের আইনের আওতায় আনতে হবে,...</td>\n",
       "      <td>2</td>\n",
       "    </tr>\n",
       "    <tr>\n",
       "      <th>5393</th>\n",
       "      <td>তাহলে চলো তোমার পাছায় দুইটা বোমা মারি, আল্লাহ...</td>\n",
       "      <td>2</td>\n",
       "    </tr>\n",
       "    <tr>\n",
       "      <th>5394</th>\n",
       "      <td>ঈশ্বর, এই জারজদের ধ্বংস করুন।</td>\n",
       "      <td>2</td>\n",
       "    </tr>\n",
       "    <tr>\n",
       "      <th>5395</th>\n",
       "      <td>তোমার দুর্ভোগ।</td>\n",
       "      <td>2</td>\n",
       "    </tr>\n",
       "    <tr>\n",
       "      <th>5396</th>\n",
       "      <td>ভাই ড্রাইভ, ম্যালাসকে আঘাত করো।</td>\n",
       "      <td>2</td>\n",
       "    </tr>\n",
       "    <tr>\n",
       "      <th>5397</th>\n",
       "      <td>তারা নিউ মার্কেট এর ব্যবসায়ী না!</td>\n",
       "      <td>2</td>\n",
       "    </tr>\n",
       "    <tr>\n",
       "      <th>5398</th>\n",
       "      <td>হল বন্ধ হওয়ার আগেই নিউ মার্কেট বন্ধ করা উচিত।</td>\n",
       "      <td>2</td>\n",
       "    </tr>\n",
       "    <tr>\n",
       "      <th>5399</th>\n",
       "      <td>যদি কেউ বাংলার মাটিতে হযরত মুহাম্মদ (সা.) এর ব...</td>\n",
       "      <td>2</td>\n",
       "    </tr>\n",
       "  </tbody>\n",
       "</table>\n",
       "</div>"
      ],
      "text/plain": [
       "                                                   text  label\n",
       "5380                   বাজার বন্ধ, তারা খারাপ আচরণ করে,      2\n",
       "5381  পুলিশের সেই স্থানে যাওয়া উচিত নয় যেখানে এই ধ...      2\n",
       "5382  আওয়ামী লীগকে ভেঙে দিতে হবে শেখ হাসিনার চোর সর...      2\n",
       "5383  আমাদের দেশের বেশিরভাগ মেয়ে আধুনিক হিজাব পরে ন...      2\n",
       "5384                                        ভারত বয়কট.      2\n",
       "5385  সরকারি স্কুল-কলেজে পড়ার জন্য স্কুলের নির্দিষ্...      2\n",
       "5386  সব মুসলিম দেশ থেকে হিন্দুদের বয়কট করুন, হিন্দ...      2\n",
       "5387  এখন আমরা চার দেব না, এখন আমরা মসজিদ আক্রমণ করত...      2\n",
       "5388  যুদ্ধের জন্য প্রস্তুত হতে সকল মুসলমানদের আহ্বা...      2\n",
       "5389  যারা ইসলামকে আঘাত করছে, আল্লাহ কাফেরদের উপর আপ...      2\n",
       "5390           তাই কলেজ বন্ধ হলে বাজারও বন্ধ হয়ে যাবে।      2\n",
       "5391  নিউ মার্কেট এলাকার সব দোকান বয়কট করে এবং তিন ...      2\n",
       "5392  যারা তার সাথে আছে তাদের আইনের আওতায় আনতে হবে,...      2\n",
       "5393  তাহলে চলো তোমার পাছায় দুইটা বোমা মারি, আল্লাহ...      2\n",
       "5394                      ঈশ্বর, এই জারজদের ধ্বংস করুন।      2\n",
       "5395                                     তোমার দুর্ভোগ।      2\n",
       "5396                    ভাই ড্রাইভ, ম্যালাসকে আঘাত করো।      2\n",
       "5397                  তারা নিউ মার্কেট এর ব্যবসায়ী না!      2\n",
       "5398     হল বন্ধ হওয়ার আগেই নিউ মার্কেট বন্ধ করা উচিত।      2\n",
       "5399  যদি কেউ বাংলার মাটিতে হযরত মুহাম্মদ (সা.) এর ব...      2"
      ]
     },
     "execution_count": 10,
     "metadata": {},
     "output_type": "execute_result"
    }
   ],
   "source": [
    "backtranslated_train.tail(20) # may need to change max_length=200"
   ]
  },
  {
   "cell_type": "markdown",
   "id": "bf3c5e57-ba06-4ce7-bd42-437b50c2715a",
   "metadata": {},
   "source": [
    "## Save Data"
   ]
  },
  {
   "cell_type": "code",
   "execution_count": 11,
   "id": "c93992b9-927e-4c10-8891-9d76ede4a2fd",
   "metadata": {},
   "outputs": [],
   "source": [
    "# from datasets import load_dataset\n",
    "\n",
    "# Split Data\n",
    "random_seed = 42\n",
    "backtranslated_train = backtranslated_train.sample(frac=1, random_state=random_seed)\n",
    "#valid_df = train.drop(train_df.index)\n",
    "# valid_df = validation\n",
    "# test_df = test\n",
    "#assert len(train) == len(train_df) + len(valid_df), \"Dataset sizes don't add up\" # check for proper split\n",
    "\n",
    "# # Create New Data Files\n",
    "# valid_df.to_csv('./data_gen/validation_data.csv', index=False)\n",
    "backtranslated_train.to_csv('./data_gen/backtranslated_train.csv', index=False)\n",
    "# test_df.to_csv('./data_gen/test_data.csv', index=False)\n",
    "# #validation.to_csv('./data/test_data.csv', index=False)\n",
    "\n",
    "# # Load Data (train + val)\n",
    "# training_data = load_dataset(\"csv\", data_files={'train': ['./data_gen/train_data.csv'],'validation': ['./data_gen/validation_data.csv']})"
   ]
  },
  {
   "cell_type": "code",
   "execution_count": 12,
   "id": "4a740a2e-097b-46ea-8375-dd1ce890eb4d",
   "metadata": {},
   "outputs": [],
   "source": [
    "import pandas as pd\n",
    "train = pd.read_csv('./data_gen/backtranslated_train.csv')\n"
   ]
  },
  {
   "cell_type": "code",
   "execution_count": 14,
   "id": "921a2398-818e-4e7c-8527-d62896824f57",
   "metadata": {},
   "outputs": [
    {
     "data": {
      "text/plain": [
       "<Axes: >"
      ]
     },
     "execution_count": 14,
     "metadata": {},
     "output_type": "execute_result"
    },
    {
     "data": {
      "image/png": "[encoded data removed]",
      "text/plain": [
       "<Figure size 640x480 with 1 Axes>"
      ]
     },
     "metadata": {},
     "output_type": "display_data"
    }
   ],
   "source": [
    "train.label.hist()"
   ]
  },
  {
   "cell_type": "code",
   "execution_count": null,
   "id": "3a47ffc3-2211-4d9d-8f96-c664654c7b03",
   "metadata": {},
   "outputs": [],
   "source": []
  }
 ],
 "metadata": {
  "kernelspec": {
   "display_name": "Text Classification Env",
   "language": "python",
   "name": "textclassification"
  },
  "language_info": {
   "codemirror_mode": {
    "name": "ipython",
    "version": 3
   },
   "file_extension": ".py",
   "mimetype": "text/x-python",
   "name": "python",
   "nbconvert_exporter": "python",
   "pygments_lexer": "ipython3",
   "version": "3.9.17"
  }
 },
 "nbformat": 4,
 "nbformat_minor": 5
}
